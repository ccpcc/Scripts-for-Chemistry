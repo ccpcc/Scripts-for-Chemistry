{
 "cells": [
  {
   "cell_type": "code",
   "execution_count": 5,
   "metadata": {},
   "outputs": [],
   "source": [
    "from ase.io import read\n",
    "from ase.visualize import view\n",
    "import numpy as np"
   ]
  },
  {
   "cell_type": "markdown",
   "metadata": {},
   "source": [
    "# V1"
   ]
  },
  {
   "cell_type": "code",
   "execution_count": 4,
   "metadata": {},
   "outputs": [
    {
     "data": {
      "text/plain": [
       "<subprocess.Popen at 0x2067f42cf08>"
      ]
     },
     "execution_count": 4,
     "metadata": {},
     "output_type": "execute_result"
    }
   ],
   "source": [
    "V1=read(\"./1_opt/CONTCAR\")\n",
    "del V1[168]\n",
    "view(V1)"
   ]
  },
  {
   "cell_type": "code",
   "execution_count": null,
   "metadata": {},
   "outputs": [],
   "source": [
    "from ase.io.vasp import write_vasp\n",
    "write_vasp(\"V1_POSCAR\",V1,label=\"changed\",direct=True,)"
   ]
  },
  {
   "cell_type": "markdown",
   "metadata": {},
   "source": [
    "# V2"
   ]
  },
  {
   "cell_type": "code",
   "execution_count": 18,
   "metadata": {},
   "outputs": [
    {
     "data": {
      "text/plain": [
       "<subprocess.Popen at 0x2067f45df88>"
      ]
     },
     "execution_count": 18,
     "metadata": {},
     "output_type": "execute_result"
    }
   ],
   "source": [
    "V2=read(\"./1_opt/CONTCAR\")\n",
    "v1p=V2[168].position.copy()\n",
    "del V2[168]\n",
    "v2p=V2[168].position.copy()\n",
    "V2[168].position=v1p\n",
    "view(V2)"
   ]
  },
  {
   "cell_type": "code",
   "execution_count": 9,
   "metadata": {},
   "outputs": [],
   "source": [
    "from ase.io.vasp import write_vasp\n",
    "write_vasp(\"V2positive_POSCAR\",V2,label=\"changed\",direct=True,)"
   ]
  },
  {
   "cell_type": "markdown",
   "metadata": {},
   "source": [
    "# V3"
   ]
  },
  {
   "cell_type": "code",
   "execution_count": 16,
   "metadata": {},
   "outputs": [
    {
     "data": {
      "text/plain": [
       "<subprocess.Popen at 0x2067f45dfc8>"
      ]
     },
     "execution_count": 16,
     "metadata": {},
     "output_type": "execute_result"
    }
   ],
   "source": [
    "V3=read(\"V2positive_POSCAR\")\n",
    "V3[165].position=v2p\n",
    "view(V3)"
   ]
  },
  {
   "cell_type": "code",
   "execution_count": 17,
   "metadata": {},
   "outputs": [],
   "source": [
    "from ase.io.vasp import write_vasp\n",
    "write_vasp(\"V3positive_POSCAR\",V3,label=\"changed\",direct=True,)"
   ]
  },
  {
   "cell_type": "markdown",
   "metadata": {},
   "source": [
    "# neb V1 to V2"
   ]
  },
  {
   "cell_type": "code",
   "execution_count": 6,
   "metadata": {},
   "outputs": [],
   "source": [
    "import math\n",
    "def move_near(p0,p1,cell):\n",
    "    # p0,p1 np.array((n,3)) positions in a cell\n",
    "    # cell np.array((3,3)) cell vectors\n",
    "    # return np.array(n,3) positions of p1 after moving\n",
    "    \n",
    "    def period(p,a,b,c):\n",
    "        return p+a*cell[0]+b*cell[1]+c*cell[2]\n",
    "    \n",
    "    r=np.empty((p0.shape[0],3))\n",
    "    tmp_d=np.empty((p0.shape[0],27))\n",
    "\n",
    "    n_ijk=np.empty((27,3))\n",
    "    n=0\n",
    "    for i in [-1,0,1]:\n",
    "        for j in [-1,0,1]:\n",
    "            for k in [-1,0,1]:\n",
    "                tmp_d[:,n]=np.sqrt(np.square(period(p1,i,j,k)-p0).sum(1))\n",
    "                n_ijk[n]=np.array([i,j,k])\n",
    "                n=n+1\n",
    "    best=tmp_d.argmin(1)\n",
    "    for i in range(p0.shape[0]):\n",
    "        n=best[i]\n",
    "        r[i,:]=period(p1[i],n_ijk[n,0],n_ijk[n,1],n_ijk[n,2])\n",
    "        \n",
    "    return r\n",
    "\n",
    "def rotate(pr,k,theta,p0=np.zeros(3)):\n",
    "    # rotate a group of points along specific axis counterclockwise\n",
    "    # pr np.array(shape=(N,3)) points to be rotated\n",
    "    # k np.array(shape=3) rotation axis\n",
    "    # theta float or int rotation rad\n",
    "    # p0 np.array(shape=3) grid origin\n",
    "    # return np.array(shape=(N,3)) points after rotation\n",
    "    if type(pr)!=np.ndarray:\n",
    "        pr=np.array(pr)\n",
    "    if type(k)!=np.ndarray:\n",
    "        k=np.array(k)\n",
    "    if type(p0)!=np.ndarray:\n",
    "        p0=np.array(p0)\n",
    "    k=k/np.sqrt((k*k).sum())\n",
    "    p_opt=(pr-p0).T\n",
    "    cos=math.cos(theta)\n",
    "    sin=math.sin(theta)\n",
    "    m=np.zeros((3,3))\n",
    "    m[0,0]=cos+k[0]*k[0]*(1-cos)\n",
    "    m[0,1]=-sin*k[2]+(1-cos)*k[0]*k[1]\n",
    "    m[0,2]=sin*k[1]+(1-cos)*k[0]*k[2]\n",
    "    m[1,0]=sin*k[2]+(1-cos)*k[0]*k[1]\n",
    "    m[1,1]=cos+k[1]*k[1]*(1-cos)\n",
    "    m[1,2]=-sin*k[0]+(1-cos)*k[1]*k[2]\n",
    "    m[2,0]=-sin*k[1]+(1-cos)*k[0]*k[2]\n",
    "    m[2,1]=sin*k[0]+(1-cos)*k[1]*k[2]\n",
    "    m[2,2]=cos+k[2]*k[2]*(1-cos)\n",
    "    return np.dot(m,p_opt).T+p0"
   ]
  },
  {
   "cell_type": "code",
   "execution_count": 7,
   "metadata": {},
   "outputs": [
    {
     "data": {
      "text/plain": [
       "<subprocess.Popen at 0x1d236a97d48>"
      ]
     },
     "execution_count": 7,
     "metadata": {},
     "output_type": "execute_result"
    }
   ],
   "source": [
    "V1=read(\"./5_V1positive/CONTCAR\")\n",
    "V2=read(\"./6_V2positive/CONTCAR\")\n",
    "V2.positions=move_near(V1.positions,V2.positions,V1.cell)\n",
    "view(V1)\n",
    "view(V2)"
   ]
  },
  {
   "cell_type": "code",
   "execution_count": 11,
   "metadata": {},
   "outputs": [
    {
     "name": "stdout",
     "output_type": "stream",
     "text": [
      "3.165118981943951 3.197487468474319\n"
     ]
    },
    {
     "data": {
      "text/plain": [
       "<subprocess.Popen at 0x1d236aa4a48>"
      ]
     },
     "execution_count": 11,
     "metadata": {},
     "output_type": "execute_result"
    }
   ],
   "source": [
    "n_img=4\n",
    "img_list=[]\n",
    "for i in range(n_img):\n",
    "    img_list.append(V1.copy())\n",
    "    img_list[i].positions=V1.positions+(i+1)/(n_img+1)*(V2.positions-V1.positions)\n",
    "    \n",
    "d1=np.sqrt(np.square(V1[168].position-V1[185].position).sum())\n",
    "d2=np.sqrt(np.square(V2[168].position-V2[185].position).sum())\n",
    "print(d1,d2)\n",
    "for i in range(n_img):\n",
    "    vec=img_list[i][168].position-img_list[i][185].position\n",
    "    vec=vec/np.linalg.norm(vec)*(d1*(i+1)/(n_img+1)+d2*(n_img-i)/(n_img+1))\n",
    "    img_list[i][168].position=img_list[i][185].position+vec\n",
    "\n",
    "view(img_list[3])"
   ]
  },
  {
   "cell_type": "code",
   "execution_count": 12,
   "metadata": {},
   "outputs": [],
   "source": [
    "from ase.io.vasp import write_vasp\n",
    "import os\n",
    "\n",
    "dir_list=[]\n",
    "for i in range(n_img+2):\n",
    "    if i<10:\n",
    "        dir_name=\"0\"+str(i)\n",
    "    else:\n",
    "        dir_name=str(i)\n",
    "    dir_list.append(dir_name)\n",
    "    if not os.path.exists(\"./8_nebV1V2/\"+dir_name):\n",
    "        os.mkdir(\"./8_nebV1V2/\"+dir_name)\n",
    "    \n",
    "write_vasp(\"./8_nebV1V2/\"+dir_list[0]+\"/POSCAR\",V1,label=\"changed\",direct=True,)\n",
    "write_vasp(\"./8_nebV1V2/\"+dir_list[-1]+\"/POSCAR\",V2,label=\"changed\",direct=True,)\n",
    "for i in range(1,len(dir_list)-1):\n",
    "    write_vasp(\"./8_nebV1V2/\"+dir_list[i]+\"/POSCAR\",img_list[i-1],label=\"changed\",direct=True,)"
   ]
  },
  {
   "cell_type": "markdown",
   "metadata": {},
   "source": [
    "# neb V2 to V3"
   ]
  },
  {
   "cell_type": "code",
   "execution_count": 20,
   "metadata": {},
   "outputs": [
    {
     "data": {
      "text/plain": [
       "<subprocess.Popen at 0x1d236aec3c8>"
      ]
     },
     "execution_count": 20,
     "metadata": {},
     "output_type": "execute_result"
    }
   ],
   "source": [
    "V2=read(\"./6_V2positive/CONTCAR\")\n",
    "V3=read(\"./7_V3positive/CONTCAR\")\n",
    "V3.positions=move_near(V2.positions,V3.positions,V2.cell)\n",
    "view(V2)\n",
    "view(V3)"
   ]
  },
  {
   "cell_type": "code",
   "execution_count": 14,
   "metadata": {},
   "outputs": [],
   "source": [
    "def neb_rotate(V1,V2,base,ro,n_img=4):\n",
    "    # V1,V2 ase.Atoms \n",
    "    # base int index of atom of rotation center\n",
    "    # ro int index of atom to be rotated\n",
    "    # n_img int number of images in neb\n",
    "    img_list=[]\n",
    "    for i in range(n_img):\n",
    "        img_list.append(V1.copy())\n",
    "        img_list[i].positions=V1.positions+(i+1)/(n_img+1)*(V2.positions-V1.positions)\n",
    "        \n",
    "    d1=np.sqrt(np.square(V1[ro].position-V1[base].position).sum())\n",
    "    d2=np.sqrt(np.square(V2[ro].position-V2[base].position).sum())\n",
    "    \n",
    "    for i in range(n_img):\n",
    "        vec=img_list[i][ro].position-img_list[i][base].position\n",
    "        vec=vec/np.linalg.norm(vec)*(d1*(i+1)/(n_img+1)+d2*(n_img-i)/(n_img+1))\n",
    "        img_list[i][ro].position=img_list[i][base].position+vec\n",
    "    return img_list"
   ]
  },
  {
   "cell_type": "code",
   "execution_count": 18,
   "metadata": {},
   "outputs": [
    {
     "data": {
      "text/plain": [
       "<subprocess.Popen at 0x1d238af0108>"
      ]
     },
     "execution_count": 18,
     "metadata": {},
     "output_type": "execute_result"
    }
   ],
   "source": [
    "img_list=neb_rotate(V2,V3,185,165)\n",
    "view(img_list[0])"
   ]
  },
  {
   "cell_type": "code",
   "execution_count": 21,
   "metadata": {},
   "outputs": [],
   "source": [
    "from ase.io.vasp import write_vasp\n",
    "import os\n",
    "\n",
    "dir_list=[]\n",
    "for i in range(n_img+2):\n",
    "    if i<10:\n",
    "        dir_name=\"0\"+str(i)\n",
    "    else:\n",
    "        dir_name=str(i)\n",
    "    dir_list.append(dir_name)\n",
    "    if not os.path.exists(\"./9_nebV2V3/\"+dir_name):\n",
    "        os.mkdir(\"./9_nebV2V3/\"+dir_name)\n",
    "    \n",
    "write_vasp(\"./9_nebV2V3/\"+dir_list[0]+\"/POSCAR\",V2,label=\"changed\",direct=True,)\n",
    "write_vasp(\"./9_nebV2V3/\"+dir_list[-1]+\"/POSCAR\",V3,label=\"changed\",direct=True,)\n",
    "for i in range(1,len(dir_list)-1):\n",
    "    write_vasp(\"./9_nebV2V3/\"+dir_list[i]+\"/POSCAR\",img_list[i-1],label=\"changed\",direct=True,)"
   ]
  },
  {
   "cell_type": "code",
   "execution_count": null,
   "metadata": {},
   "outputs": [],
   "source": []
  }
 ],
 "metadata": {
  "kernelspec": {
   "display_name": "Python 3",
   "language": "python",
   "name": "python3"
  },
  "language_info": {
   "codemirror_mode": {
    "name": "ipython",
    "version": 3
   },
   "file_extension": ".py",
   "mimetype": "text/x-python",
   "name": "python",
   "nbconvert_exporter": "python",
   "pygments_lexer": "ipython3",
   "version": "3.7.8"
  }
 },
 "nbformat": 4,
 "nbformat_minor": 4
}
